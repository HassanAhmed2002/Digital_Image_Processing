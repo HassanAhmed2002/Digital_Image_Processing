{
  "nbformat": 4,
  "nbformat_minor": 0,
  "metadata": {
    "colab": {
      "provenance": [],
      "collapsed_sections": []
    },
    "kernelspec": {
      "name": "python3",
      "display_name": "Python 3"
    },
    "language_info": {
      "name": "python"
    }
  },
  "cells": [
    {
      "cell_type": "code",
      "execution_count": 62,
      "metadata": {
        "colab": {
          "base_uri": "https://localhost:8080/",
          "height": 269
        },
        "id": "_Wr8-GkKYCWk",
        "outputId": "25b8be1d-020a-4035-ca03-0c77436a8b40"
      },
      "outputs": [
        {
          "output_type": "display_data",
          "data": {
            "text/plain": [
              "<Figure size 432x288 with 1 Axes>"
            ],
            "image/png": "[encoded data removed]"
          },
          "metadata": {
            "needs_background": "light"
          }
        }
      ],
      "source": [
        "from PIL import Image\n",
        "import numpy as np\n",
        "import matplotlib.pyplot as plt\n",
        "\n",
        "def apply4Connectivity(filename):\n",
        "  img = Image.open(filename)\n",
        "  img_array = np.array(img)\n",
        "  img_labels = np.zeros(img_array.shape)\n",
        "  new_img_array = np.zeros(img_array.shape)\n",
        "  labels = dict()\n",
        "  currentMaxLabel = 0\n",
        "\n",
        "  for i in range(img_array.shape[0]):\n",
        "    for j in range(img_array.shape[1]):\n",
        "      if img_array[i, j] == 255:\n",
        "        if i != 0 and j != 0:\n",
        "          if img_labels[i-1, j] == img_labels[i, j-1] and img_labels[i, j-1] != 0: # Both labels same\n",
        "            img_labels[i,j] = img_labels[i, j-1] # Both left and top same\n",
        "          elif img_labels[i-1, j] != img_labels[i, j-1]: # Both labels diff\n",
        "            if img_labels[i-1, j] == 0:\n",
        "              img_labels[i,j] = img_labels[i, j-1] # left pixel is white, top is black\n",
        "            elif img_labels[i, j-1] == 0:\n",
        "              img_labels[i, j] = img_labels[i-1, j] # top pixel is white, left is black\n",
        "            else: # Both pixels are white having diff labels\n",
        "              neighbour_labels = [img_labels[i-1, j], img_labels[i, j-1]]\n",
        "              img_labels[i, j] = min(neighbour_labels)\n",
        "              if neighbour_labels.index(min(neighbour_labels)) == 0:\n",
        "                # Top label is less\n",
        "                labels[int(img_labels[i, j-1])] = img_labels[i-1, j]\n",
        "              else:\n",
        "                labels[int(img_labels[i-1, j])] = img_labels[i, j-1]\n",
        "          elif img_labels[i-1, j] == 0 and img_labels[i, j-1] == 0: # Both pixels black\n",
        "            img_labels[i, j] = currentMaxLabel + 1 # Assigning new label\n",
        "            currentMaxLabel += 1\n",
        "            labels[int(currentMaxLabel)] = currentMaxLabel\n",
        "\n",
        "  for i in range(img_array.shape[0]):\n",
        "    for j in range(img_array.shape[1]):\n",
        "      if img_array[i, j] == 255:\n",
        "        img_labels[i, j] = labels[int(img_labels[i, j])]\n",
        "        new_img_array[i, j] = 255\n",
        "    \n",
        "  new_g_img = Image.fromarray(new_img_array)\n",
        "  new_img = Image.new(\"RGB\", img.size)\n",
        "  new_img.paste(new_g_img)\n",
        "  new_img.save(\"result.png\")\n",
        "  return new_img\n",
        "\n",
        "\n",
        "img = apply4Connectivity(\"cc.png\")\n",
        "\n",
        "fig, axes = plt.subplots(nrows=1, ncols=1)\n",
        "axes.imshow(img, cmap='gist_earth')\n",
        "plt.show()\n"
      ]
    }
  ]
}